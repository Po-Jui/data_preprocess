{
 "cells": [
  {
   "cell_type": "code",
   "execution_count": 53,
   "metadata": {},
   "outputs": [
    {
     "name": "stdout",
     "output_type": "stream",
     "text": [
      "C:\\Windows\\Fonts\\simhei.ttf\n"
     ]
    }
   ],
   "source": [
    "\"\"\"\n",
    " author:jjk\n",
    " datetime:2019/11/26\n",
    " coding:utf-8\n",
    " project name:Pycharm_workstation\n",
    " Program function: NLTK词频统计\n",
    " \n",
    "\"\"\"\n",
    "\"\"\"\n",
    "安装：pip install nltk\n",
    "\n",
    "\"\"\"\n",
    "\n",
    "from nltk import *\n",
    "from StopWords import readFile,seg_doc\n",
    "#%matplotlib inline\n",
    "# 解决中文显示\n",
    "import matplotlib\n",
    "# （1）查看当前使用字体格式\n",
    "from matplotlib.font_manager import findfont, FontProperties\n",
    "print(findfont(FontProperties(family=FontProperties().get_family())))\n",
    "# （2）在C:\\Windows\\Fonts查找中文字体SimHei.ttf，并将其复制到../mpl-data/font/ttf文件夹下面\n",
    "# (3) 设置使用字体\n",
    "matplotlib.rcParams['font.sans-serif'] = 'SimHei'"
   ]
  },
  {
   "cell_type": "code",
   "execution_count": 61,
   "metadata": {},
   "outputs": [],
   "source": [
    "# 利用nltk进行词频特征统计\n",
    "def nltk_wf_feature(word_list=None):\n",
    "#     fdist = FreqDist(word_list)\n",
    "#     print(fdist.keys(),'\\n',fdist.values()) # 关键词和次数\n",
    "    \n",
    "#     print('='*3,'指定词语词频统计','='*3)\n",
    "#     w = '专业'\n",
    "#     print(w,'出现频率:',fdist.freq(w)) # 给定样本的频率\n",
    "#     print(w,'出现次数:',fdist[w])\n",
    "    \n",
    "#     print('='*3,'频率分布表','='*3)\n",
    "#     fdist.tabulate(10) # 前10个词\n",
    "#     fdist.plot(30) # 频率分布图\n",
    "    \n",
    "    # ********统计词频方法2**************\n",
    "    from collections import Counter\n",
    "    words = Counter(word_list)\n",
    "    print(words.keys(),'\\n',words.values())\n",
    "    \n",
    "    wlist = [w for w in words if len(w)==4] # 如果词语>2就提取出来\n",
    "    print(wlist)\n",
    "    \n",
    "    \n",
    "    "
   ]
  },
  {
   "cell_type": "code",
   "execution_count": 62,
   "metadata": {},
   "outputs": [
    {
     "name": "stdout",
     "output_type": "stream",
     "text": [
      "性感比基尼亮丽奥帆中心 “帆女郎”亲吻阳光(图)\n",
      "　　奥帆赛将在8月9日到23日于青岛举行，将有9个级别，11个项目的比赛，产生11块金牌。截至8月4日下午2时，所有参加奥帆赛的62支帆船队规模均已确定，总人数为716人，其中运动员总数为400人。目前，已报到的运动队，正在熟悉赛地，加紧训练。\n",
      "　　适应赛地、检修帆船，阳光下的帆女郎，显得十分专业，而专业中也透着一份休闲的美丽。\n",
      "　　SEXY\n",
      "\n",
      "\n",
      "['性感', '比基尼', '亮丽', '奥帆', '中心', '女郎', '亲吻', '阳光', '奥帆赛', '日到', '日于', '青岛', '举行', '级别', '项目', '比赛', '金牌', '截至', '下午', '所有', '奥帆赛', '帆船', '规模', '人数', '运动员', '总数', '已报', '运动队', '熟悉', '赛地', '加紧训练', '赛地', '检修', '帆船', '阳光', '女郎', '显得', '专业', '专业', '一份', '休闲', '美丽'] \n",
      "\n",
      "dict_keys(['性感', '比基尼', '亮丽', '奥帆', '中心', '女郎', '亲吻', '阳光', '奥帆赛', '日到', '日于', '青岛', '举行', '级别', '项目', '比赛', '金牌', '截至', '下午', '所有', '帆船', '规模', '人数', '运动员', '总数', '已报', '运动队', '熟悉', '赛地', '加紧训练', '检修', '显得', '专业', '一份', '休闲', '美丽']) \n",
      " dict_values([1, 1, 1, 1, 1, 2, 1, 2, 2, 1, 1, 1, 1, 1, 1, 1, 1, 1, 1, 1, 2, 1, 1, 1, 1, 1, 1, 1, 2, 1, 1, 1, 2, 1, 1, 1])\n",
      "['加紧训练']\n"
     ]
    }
   ],
   "source": [
    "if __name__ == '__main__':\n",
    "    # 1、读取文本\n",
    "    path = r'../dataSet/CSCMNews/体育/2.txt'\n",
    "    str_doc = readFile(path)\n",
    "    print(str_doc)\n",
    "    \n",
    "    # 2、词频特征统计\n",
    "    word_list = seg_doc(str_doc)\n",
    "    print(word_list,'\\n')\n",
    "    nltk_wf_feature(word_list)"
   ]
  },
  {
   "cell_type": "code",
   "execution_count": null,
   "metadata": {},
   "outputs": [],
   "source": []
  }
 ],
 "metadata": {
  "kernelspec": {
   "display_name": "Python 3",
   "language": "python",
   "name": "python3"
  },
  "language_info": {
   "codemirror_mode": {
    "name": "ipython",
    "version": 3
   },
   "file_extension": ".py",
   "mimetype": "text/x-python",
   "name": "python",
   "nbconvert_exporter": "python",
   "pygments_lexer": "ipython3",
   "version": "3.6.8"
  }
 },
 "nbformat": 4,
 "nbformat_minor": 2
}
