{
 "cells": [
  {
   "cell_type": "code",
   "execution_count": 10,
   "metadata": {},
   "outputs": [],
   "source": [
    "\"\"\"\n",
    " author:jjk\n",
    " datetime:2019/11/27\n",
    " coding:utf-8\n",
    " project name:Pycharm_workstation\n",
    " Program function: 自定义去高低词频\n",
    " \n",
    "\"\"\"\n",
    "\n",
    "from freqwod import *\n",
    "from stopword import readFile,seg_doc"
   ]
  },
  {
   "cell_type": "code",
   "execution_count": 11,
   "metadata": {},
   "outputs": [],
   "source": [
    "# 选择高低词\n",
    "def freqword(fdist):\n",
    "    wordlist =[]\n",
    "    print('='*3,'打印统计的词频','='*3)\n",
    "    for key in fdist.keys():\n",
    "        if fdist.get(key)>2 and fdist.get(key)<15:\n",
    "            wordlist.append(key+':'+str(fdist.get(key)))\n",
    "    return wordlist"
   ]
  },
  {
   "cell_type": "code",
   "execution_count": 12,
   "metadata": {},
   "outputs": [
    {
     "name": "stdout",
     "output_type": "stream",
     "text": [
      "性感比基尼亮丽奥帆中心 “帆女郎”亲吻阳光(图)\n",
      "　　奥帆赛将在8月9日到23日于青岛举行，将有9个级别，11个项目的比赛，产生11块金牌。截至8月4日下午2时，所有参加奥帆赛的62支帆船队规模均已确定，总人数为716人，其中运动员总数为400人。目前，已报到的运动队，正在熟悉赛地，加紧训练。\n",
      "　　适应赛地、检修帆船，阳光下的帆女郎，显得十分专业，而专业中也透着一份休闲的美丽。\n",
      "　　SEXY\n",
      "\n",
      "\n",
      "['性感', '比基尼', '亮丽', '奥帆', '中心', '女郎', '亲吻', '阳光', '奥帆赛', '日到', '日于', '青岛', '举行', '级别', '项目', '比赛', '金牌', '截至', '下午', '所有', '奥帆赛', '帆船', '规模', '人数', '运动员', '总数', '已报', '运动队', '熟悉', '赛地', '加紧训练', '赛地', '检修', '帆船', '阳光', '女郎', '显得', '专业', '专业', '一份', '休闲', '美丽', 'SEXY']\n",
      "dict_keys(['性感', '比基尼', '亮丽', '奥帆', '中心', '女郎', '亲吻', '阳光', '奥帆赛', '日到', '日于', '青岛', '举行', '级别', '项目', '比赛', '金牌', '截至', '下午', '所有', '帆船', '规模', '人数', '运动员', '总数', '已报', '运动队', '熟悉', '赛地', '加紧训练', '检修', '显得', '专业', '一份', '休闲', '美丽', 'SEXY']) dict_values([1, 1, 1, 1, 1, 2, 1, 2, 2, 1, 1, 1, 1, 1, 1, 1, 1, 1, 1, 1, 2, 1, 1, 1, 1, 1, 1, 1, 2, 1, 1, 1, 2, 1, 1, 1, 1])\n",
      "=== 指定词语词频统计 ===\n",
      "训练 出现频率： 0.0\n",
      "训练 出现次数： 0\n",
      "=== 频率分布表 ===\n",
      " 女郎  阳光 奥帆赛  帆船  赛地  专业  性感 比基尼  亮丽  奥帆  中心  亲吻  日到  日于  青岛  举行  级别  项目  比赛  金牌  截至  下午  所有  规模  人数 运动员  总数  已报 运动队  熟悉 \n",
      "  2   2   2   2   2   2   1   1   1   1   1   1   1   1   1   1   1   1   1   1   1   1   1   1   1   1   1   1   1   1 \n",
      "<FreqDist with 37 samples and 43 outcomes>\n",
      "dict_keys(['性感', '比基尼', '亮丽', '奥帆', '中心', '女郎', '亲吻', '阳光', '奥帆赛', '日到', '日于', '青岛', '举行', '级别', '项目', '比赛', '金牌', '截至', '下午', '所有', '帆船', '规模', '人数', '运动员', '总数', '已报', '运动队', '熟悉', '赛地', '加紧训练', '检修', '显得', '专业', '一份', '休闲', '美丽', 'SEXY']) dict_values([1, 1, 1, 1, 1, 2, 1, 2, 2, 1, 1, 1, 1, 1, 1, 1, 1, 1, 1, 1, 2, 1, 1, 1, 1, 1, 1, 1, 2, 1, 1, 1, 2, 1, 1, 1, 1])\n",
      "=== 指定词语词频统计 ===\n",
      "训练 出现频率： 0.0\n",
      "训练 出现次数： 0\n",
      "=== 频率分布表 ===\n",
      " 女郎  阳光 奥帆赛  帆船  赛地  专业  性感 比基尼  亮丽  奥帆  中心  亲吻  日到  日于  青岛  举行  级别  项目  比赛  金牌  截至  下午  所有  规模  人数 运动员  总数  已报 运动队  熟悉 \n",
      "  2   2   2   2   2   2   1   1   1   1   1   1   1   1   1   1   1   1   1   1   1   1   1   1   1   1   1   1   1   1 \n",
      "=== 打印统计的词频 ===\n",
      "['性感:1', '比基尼:1', '亮丽:1', '奥帆:1', '中心:1', '女郎:2', '亲吻:1', '阳光:2', '奥帆赛:2', '日到:1', '日于:1', '青岛:1', '举行:1', '级别:1', '项目:1', '比赛:1', '金牌:1', '截至:1', '下午:1', '所有:1', '帆船:2', '规模:1', '人数:1', '运动员:1', '总数:1', '已报:1', '运动队:1', '熟悉:1', '赛地:2', '加紧训练:1', '检修:1', '显得:1', '专业:2', '一份:1', '休闲:1', '美丽:1', 'SEXY:1']\n"
     ]
    }
   ],
   "source": [
    "if __name__ == '__main__':\n",
    "    # 1、读取文本\n",
    "    path = r'../dataSet/CSCMNews/体育/2.txt'\n",
    "    str_doc = readFile(path) \n",
    "    print(str_doc)\n",
    "    # 分词处理\n",
    "    word_list = seg_doc(str_doc)\n",
    "    print(word_list)\n",
    "    \n",
    "    # 2、选择高低词\n",
    "    fdlist = nltk_wf_feature(word_list) # 获取词频\n",
    "    print(fdlist)\n",
    "    \n",
    "    # 2 选择高低词\n",
    "    fdist = nltk_wf_feature(word_list)\n",
    "    wordlist=hl_frequword(fdist)\n",
    "    print(wordlist)\n",
    "    "
   ]
  },
  {
   "cell_type": "code",
   "execution_count": null,
   "metadata": {},
   "outputs": [],
   "source": []
  }
 ],
 "metadata": {
  "kernelspec": {
   "display_name": "Python 3",
   "language": "python",
   "name": "python3"
  },
  "language_info": {
   "codemirror_mode": {
    "name": "ipython",
    "version": 3
   },
   "file_extension": ".py",
   "mimetype": "text/x-python",
   "name": "python",
   "nbconvert_exporter": "python",
   "pygments_lexer": "ipython3",
   "version": "3.6.8"
  }
 },
 "nbformat": 4,
 "nbformat_minor": 2
}
