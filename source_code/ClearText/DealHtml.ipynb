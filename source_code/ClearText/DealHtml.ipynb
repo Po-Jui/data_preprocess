{
 "cells": [
  {
   "cell_type": "code",
   "execution_count": null,
   "metadata": {},
   "outputs": [],
   "source": [
    "\"\"\"\n",
    " author:jjk\n",
    " datetime:2019/11/25\n",
    " coding:utf-8\n",
    " project name:Pycharm_workstation\n",
    " Program function: 正则清洗HTML\n",
    " \n",
    "\"\"\"\n",
    "import re"
   ]
  },
  {
   "cell_type": "code",
   "execution_count": 12,
   "metadata": {},
   "outputs": [],
   "source": [
    "# . 任意字符\n",
    "# * 任意次数\n",
    "# ^ 任意开头\n",
    "# $ 结尾\n",
    "# ？非贪婪模式，提取第一个字符\n",
    "# + 至少出现一次\n",
    "# {1} 出现一次\n",
    "# {3，}出现3次以上\n",
    "# {2,5} 至少2次最多5次\n",
    "# \\d 匹配数字\n",
    "# [\\u4E00-\\u9FA5] 汉字的匹配\n",
    "# | 或的关系\n",
    "# [] 满足任意一个都可以，[2425]任意[0-9]区间 [^1]非1\n",
    "# \\s 为空格 \\S非空格\n",
    "# \\w 匹配[A-Za-z0-9] \\W 反匹配[A-Za-z0-9]\n",
    "\"\"\"\n",
    "re.I 使匹配对大小写不敏感\n",
    "re.L 做本地化识别（locale-aware-）匹配\n",
    "re.M 多行匹配，影响^和$\n",
    "re.S 使匹配包括换行在内的所有字符\n",
    "re.U 根据字符集解析字符。这个标志影响\\w，\\w，\\b,\\B\n",
    "re.X 该标志通过给予你更灵活的格式以便你将正则表达式写得更易\n",
    "\n",
    "\"\"\"\n",
    "# 清洗HTML标签文本，@param htmlStr HTML字符串\n",
    "def filter_tags(htmLStr):\n",
    "    # 1、过滤DOCTYPE\n",
    "    htmlStr = ' '.join(htmLStr.split()) # 去掉多余的空格\n",
    "    re_doctype = re.compile(r'<!DOCTYPE .*?>',re.S) # re.S参数, 正则表达式会将这个字符串作为一个整体，在整体中进行匹配\n",
    "    res = re_doctype.sub('',htmlStr)\n",
    "    \n",
    "    # 2、过滤CDATA\n",
    "    re_cdata = re.compile('//<!CDATA\\[[ >]* //\\] >',re.I) # 使匹配对大小写不敏感\n",
    "    res = re_cdata.sub('',res) \n",
    "    \n",
    "    # 3、Script\n",
    "    re_script = re.compile('<\\s*script[^>]*>[^<]*<\\s*/\\s*script\\s*>',re.I) # 直接用,\\s:空格，匹配script以及中间内容的一个方式\n",
    "    res = re_script.sub('',res)\n",
    "    \n",
    "    # 4、style\n",
    "    re_style = re.compile('<\\s*style[^>]*>[^<]*<\\s*/\\s*style\\s*>', re.I) #  re_style = re.compile('<\\s*style[^>]*>[^<]*<\\s*/\\s*style\\s*>', re.I)\n",
    "    res = re_style.sub('',res) # 去掉style\n",
    "    \n",
    "    # 5、处理换行\n",
    "    re_br = re.compile('<br\\s*?/?>')\n",
    "    res = re_br.sub('',res) #将br转换成空行\n",
    "    \n",
    "    # 6、HTML标签\n",
    "    re_h = re.compile('</?\\w+[^>]*>')\n",
    "    res = re_h.sub('',res) # 去掉html标签\n",
    "    \n",
    "    # 7、剔除超链接\n",
    "    http_link = re.compile(r'(http://.+.html)')\n",
    "    res = http_link.sub('',res)\n",
    "    \n",
    "    # 8、HTML注释\n",
    "    re_comment = re.compile('<!--[^>]*-->')\n",
    "    res = re_comment.sub('',res)\n",
    "    \n",
    "    # 8、处理多余的空格\n",
    "    blank_line = re.compile('\\n+')\n",
    "    res = blank_line.sub('',res)\n",
    "    \n",
    "    blank_line_1 = re.compile('\\n')\n",
    "    res = blank_line_1.sub('',res)\n",
    "    \n",
    "    blank_kon = re.compile('\\t')\n",
    "    res = blank_kon.sub('',res)\n",
    "    \n",
    "    blank_two = re.compile('\\r')\n",
    "    res = blank_two.sub('',res)\n",
    "    blank_three = re.compile(' ')\n",
    "    res = blank_three.sub('',res)\n",
    "    \n",
    "    \n",
    "    \n",
    "    return res # 返回字符串"
   ]
  },
  {
   "cell_type": "code",
   "execution_count": 13,
   "metadata": {},
   "outputs": [],
   "source": [
    "def readFile(path):\n",
    "    str_doc = \"\"\n",
    "    with open(path,'r',encoding='utf-8') as f:\n",
    "        str_doc = f.read()\n",
    "    return str_doc"
   ]
  },
  {
   "cell_type": "code",
   "execution_count": 14,
   "metadata": {},
   "outputs": [
    {
     "name": "stdout",
     "output_type": "stream",
     "text": [
      "上港5-4恒大5分领跑剑指冠军，下轮打平便可夺冠，武磊平纪录—广州恒大淘宝|上海上港|蔡慧康|武磊|胡尔克|张成林|阿兰|保利尼奥|王燊超|吕文君|懂球帝北京时间11月3日19:35，中超第28轮迎来天王山之战，广州恒大淘宝坐镇主场迎战上海上港。上半场吕文君和蔡慧康先后进球两度为上港取得领先，保利尼奥和阿兰两度为恒大将比分扳平，补时阶段保利尼奥进球反超比分；下半场武磊进球追平李金羽单赛季进球纪录，王燊超造成张成林乌龙，胡尔克点射破门，阿兰补时打进点球。最终，上海上港客场5-4战胜广州恒大淘宝，赛季双杀恒大同时也将积分榜上的领先优势扩大到五分，上港下轮只要战平就将夺得冠军。非常抱歉！\n"
     ]
    }
   ],
   "source": [
    "# 主函数\n",
    "if __name__ == '__main__':\n",
    "    str_doc = readFile(r'htmldome.txt') # 文件路径\n",
    "    res = filter_tags(str_doc) # 正则清洗html内容\n",
    "    print(res)\n",
    "    "
   ]
  },
  {
   "cell_type": "code",
   "execution_count": null,
   "metadata": {},
   "outputs": [],
   "source": []
  }
 ],
 "metadata": {
  "kernelspec": {
   "display_name": "Python 3",
   "language": "python",
   "name": "python3"
  },
  "language_info": {
   "codemirror_mode": {
    "name": "ipython",
    "version": 3
   },
   "file_extension": ".py",
   "mimetype": "text/x-python",
   "name": "python",
   "nbconvert_exporter": "python",
   "pygments_lexer": "ipython3",
   "version": "3.6.8"
  }
 },
 "nbformat": 4,
 "nbformat_minor": 2
}
