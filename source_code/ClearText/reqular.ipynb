{
 "cells": [
  {
   "cell_type": "code",
   "execution_count": null,
   "metadata": {},
   "outputs": [],
   "source": [
    "\"\"\"\n",
    " author:jjk\n",
    " datetime:2019/11/22\n",
    " coding:utf-8\n",
    " project name:Pycharm_workstation\n",
    " Program function: 正则表达式学习与使用\n",
    " \n",
    "\"\"\""
   ]
  },
  {
   "cell_type": "code",
   "execution_count": null,
   "metadata": {},
   "outputs": [],
   "source": [
    "import re\n",
    "# . 任意字符\n",
    "# * 任意次数\n",
    "# ^ 任意开头\n",
    "# $ 结尾\n",
    "# ？非贪婪模式，提取第一个字符\n",
    "# + 至少出现一次\n",
    "# {1} 出现一次\n",
    "# {3，}出现3次以上\n",
    "# {2,5} 至少2次最多5次\n",
    "# \\d 匹配数字\n",
    "# [\\u4E00-\\u9FA5] 汉字的匹配\n",
    "# | 或的关系\n",
    "# [] 满足任意一个都可以，[2425]任意[0-9]区间 [^1]非1\n",
    "# \\s 为空格 \\S非空格\n",
    "# \\w 匹配[A-Za-z0-9] \\W 反匹配[A-Za-z0-9]"
   ]
  },
  {
   "cell_type": "code",
   "execution_count": 2,
   "metadata": {},
   "outputs": [
    {
     "name": "stdout",
     "output_type": "stream",
     "text": [
      "1990-10-01\n"
     ]
    }
   ],
   "source": [
    "# line = r'this is python 数据处理，我是贾逗比，env is Anaconda4,此时是2019年11月24日 '\n",
    "# # 匹配字符串\n",
    "# rege_str1 = '^t.*' # 开头+任意次数\n",
    "# rege_str2 = '.*(s+)' # '.*?(s+)'\n",
    "# rege_str3 = '.*([\\u4E00-\\u9FA5])' # 提取汉字 print(res.group(1)) # 字符或者元组形\n",
    "# rege_str4 = '.*(\\d{4}年)' # \\d{4}:只能是4个数字\n",
    "\n",
    "# res = re.match(rege_str4,line) # 三个参数，1：匹配的字符串，2：要处理的字符串，3：标志，是否区分大小写,flags=False\n",
    "# if res: # 如果匹配到\n",
    "#     print(res)\n",
    "#     print(res.group(1)) # 字符或者元组形\n",
    "# else:\n",
    "#     print('this is null')\n",
    "\n",
    "\"\"\"\n",
    "日期的提取\n",
    "\"\"\"\n",
    "# line =' 张三出生于1990年1月1日'\n",
    "# line =' 李四出生于1990-10-1'\n",
    "line =' 王五出生于1990-10-01'\n",
    "# line =' 孙六出生于1990/10/1'\n",
    "# line = '张七出生于1990-10'\n",
    "\n",
    "# 匹配数字四位：\\d{4} \n",
    "# \\d{1,2}:数字，出现1次或者2次\n",
    "rege_str = '.*出生于(\\d{4}[年/-]\\d{1,2}([月/-]\\d{1,2}|[月/-]$|$))' \n",
    "res = re.match(rege_str,line)\n",
    "if res:\n",
    "    print(res.group(1))\n",
    "else:\n",
    "    print('this is null')\n"
   ]
  },
  {
   "cell_type": "code",
   "execution_count": 3,
   "metadata": {},
   "outputs": [
    {
     "name": "stdout",
     "output_type": "stream",
     "text": [
      "15828557565\n"
     ]
    }
   ],
   "source": [
    "\"\"\"\n",
    "电话号码的提取\n",
    "\"\"\"\n",
    "# 文本信息\n",
    "line = '我的手机号是15828557565就是这个号'\n",
    "# line = '我的手机号是15928523456就是这个号'\n",
    "# line = '我的手机号是19943544555就是这个号'\n",
    "# line = '我的手机号是13857990934就是这个号'\n",
    "# 1ine = '我的手机号是17757990934就是这个号'\n",
    "\n",
    "rege_str = '.*?(1[5937]\\\\d{9})' # [5937]任意一个数字   \n",
    "res = re.match(rege_str,line)\n",
    "if res:\n",
    "    print(res.group(1))\n",
    "else:\n",
    "    print('this is null')\n",
    "\n"
   ]
  },
  {
   "cell_type": "code",
   "execution_count": null,
   "metadata": {},
   "outputs": [],
   "source": []
  }
 ],
 "metadata": {
  "kernelspec": {
   "display_name": "Python 3",
   "language": "python",
   "name": "python3"
  },
  "language_info": {
   "codemirror_mode": {
    "name": "ipython",
    "version": 3
   },
   "file_extension": ".py",
   "mimetype": "text/x-python",
   "name": "python",
   "nbconvert_exporter": "python",
   "pygments_lexer": "ipython3",
   "version": "3.6.8"
  }
 },
 "nbformat": 4,
 "nbformat_minor": 2
}
