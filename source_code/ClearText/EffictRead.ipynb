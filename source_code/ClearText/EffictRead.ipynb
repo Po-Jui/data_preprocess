{
 "cells": [
  {
   "cell_type": "code",
   "execution_count": 1,
   "metadata": {},
   "outputs": [
    {
     "data": {
      "text/plain": [
       "'\\n author:jjk\\n datetime:2019/11/22\\n coding:utf-8\\n project name:Pycharm_workstation\\n Program function: 递归批量到处去30w新闻文本\\n \\n'"
      ]
     },
     "execution_count": 1,
     "metadata": {},
     "output_type": "execute_result"
    }
   ],
   "source": [
    "\"\"\"\n",
    " author:jjk\n",
    " datetime:2019/11/22\n",
    " coding:utf-8\n",
    " project name:Pycharm_workstation\n",
    " Program function: 递归批量到处去30w新闻文本\n",
    " \n",
    "\"\"\""
   ]
  },
  {
   "cell_type": "code",
   "execution_count": 2,
   "metadata": {},
   "outputs": [],
   "source": [
    "import os,time"
   ]
  },
  {
   "cell_type": "code",
   "execution_count": 3,
   "metadata": {},
   "outputs": [],
   "source": [
    "# 迭代器类\n",
    "class loadFolder(object): # 加载文件夹\n",
    "    def __init__(self,par_path):# 文件夹的路径\n",
    "        self.par_path = par_path\n",
    "    def __iter__(self): # 迭代器\n",
    "        for file in os.listdir(self.par_path): # os.listdir() 方法用于返回指定的文件夹包含的文件或文件夹的名字的列表\n",
    "            file_abspath = os.path.join(self.par_path,file) # 目录下有哪些文件（可能是一个文件也可能是一个文件名）\n",
    "            if os.path.isdir(file_abspath): # 如果还是一个文件夹\n",
    "                yield file_abspath # 迭代一下（如果遇到一个文件的目录，就会一直的迭代）,类似return"
   ]
  },
  {
   "cell_type": "code",
   "execution_count": 4,
   "metadata": {},
   "outputs": [],
   "source": [
    "class loadFiles(object):\n",
    "    def __init__(self,par_path):\n",
    "        self.par_path = par_path\n",
    "    def __iter__(self):\n",
    "        folders = loadFolder(self.par_path) # 调用类函数loadFolder(object)看是否是一个文件夹（根目录传进来之后，根目录和次级目录的关系）\n",
    "        for folder in folders: # 一级目录\n",
    "            catg = folder.split(os.sep)[-1]\n",
    "            for file in os.listdir(folder):# 二级目录(子目录)，如果文件名在(os.listdir() 方法用于返回指定的文件夹包含的文件或文件夹的名字的列表)\n",
    "                yield catg,file"
   ]
  },
  {
   "cell_type": "code",
   "execution_count": 5,
   "metadata": {},
   "outputs": [
    {
     "name": "stdout",
     "output_type": "stream",
     "text": [
      "2019-11-24 10:34:18 *** 0 \t docs has been read \n",
      "2019-11-24 10:34:18 *** 10000 \t docs has been read \n",
      "2019-11-24 10:34:18 *** 20000 \t docs has been read \n",
      "2019-11-24 10:34:18 *** 30000 \t docs has been read \n",
      "2019-11-24 10:34:18 *** 40000 \t docs has been read \n",
      "2019-11-24 10:34:18 *** 50000 \t docs has been read \n",
      "2019-11-24 10:34:18 *** 60000 \t docs has been read \n",
      "2019-11-24 10:34:18 *** 70000 \t docs has been read \n",
      "2019-11-24 10:34:18 *** 80000 \t docs has been read \n",
      "2019-11-24 10:34:18 *** 90000 \t docs has been read \n",
      "2019-11-24 10:34:18 *** 100000 \t docs has been read \n",
      "2019-11-24 10:34:18 *** 110000 \t docs has been read \n",
      "2019-11-24 10:34:18 *** 120000 \t docs has been read \n",
      "2019-11-24 10:34:18 *** 130000 \t docs has been read \n",
      "2019-11-24 10:34:18 *** 140000 \t docs has been read \n",
      "2019-11-24 10:34:18 *** 150000 \t docs has been read \n",
      "2019-11-24 10:34:18 *** 160000 \t docs has been read \n",
      "2019-11-24 10:34:18 *** 170000 \t docs has been read \n",
      "2019-11-24 10:34:18 *** 180000 \t docs has been read \n",
      "2019-11-24 10:34:18 *** 190000 \t docs has been read \n",
      "2019-11-24 10:34:18 *** 200000 \t docs has been read \n",
      "2019-11-24 10:34:18 *** 210000 \t docs has been read \n",
      "2019-11-24 10:34:19 *** 220000 \t docs has been read \n",
      "2019-11-24 10:34:19 *** 230000 \t docs has been read \n",
      "2019-11-24 10:34:19 *** 240000 \t docs has been read \n",
      "2019-11-24 10:34:19 *** 250000 \t docs has been read \n",
      "2019-11-24 10:34:19 *** 260000 \t docs has been read \n",
      "2019-11-24 10:34:19 *** 270000 \t docs has been read \n",
      "2019-11-24 10:34:19 *** 280000 \t docs has been read \n",
      "2019-11-24 10:34:19 *** 290000 \t docs has been read \n",
      "2019-11-24 10:34:19 *** 300000 \t docs has been read \n",
      "2019-11-24 10:34:19 *** 310000 \t docs has been read \n",
      "Total spend times:0.88s\n"
     ]
    }
   ],
   "source": [
    "# 主函数\n",
    "if __name__ == '__main__':\n",
    "    t1 = time.time() # 起始时间\n",
    "    filePath = os.path.abspath(r'../dataSet/CSCMNews/')  # 文件的路径\n",
    "    files = loadFiles(filePath) # 获取所有的文件(会返回两个参数)\n",
    "    \n",
    "    for i,msg in enumerate(files): # 用枚举方式\n",
    "        if i%10000 == 0:\n",
    "            print('{t} *** {i} \\t docs has been read '.format(i=i,t=time.strftime('%Y-%m-%d %H:%M:%S',time.localtime())))\n",
    "    \n",
    "    t2 = time.time() # 截止时间\n",
    "    print('Total spend times:%.2f' % (t2-t1) + 's') # 一共花费多少秒"
   ]
  },
  {
   "cell_type": "code",
   "execution_count": null,
   "metadata": {},
   "outputs": [],
   "source": []
  }
 ],
 "metadata": {
  "kernelspec": {
   "display_name": "Python 3",
   "language": "python",
   "name": "python3"
  },
  "language_info": {
   "codemirror_mode": {
    "name": "ipython",
    "version": 3
   },
   "file_extension": ".py",
   "mimetype": "text/x-python",
   "name": "python",
   "nbconvert_exporter": "python",
   "pygments_lexer": "ipython3",
   "version": "3.6.8"
  }
 },
 "nbformat": 4,
 "nbformat_minor": 2
}
