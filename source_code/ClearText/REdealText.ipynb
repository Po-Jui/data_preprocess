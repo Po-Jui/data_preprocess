{
 "cells": [
  {
   "cell_type": "code",
   "execution_count": 5,
   "metadata": {},
   "outputs": [],
   "source": [
    "\"\"\"\n",
    " author:jjk\n",
    " datetime:2019/11/25\n",
    " coding:utf-8\n",
    " project name:Pycharm_workstation\n",
    " Program function: 正则清洗文本数据\n",
    " \n",
    "\"\"\"\n",
    "import re"
   ]
  },
  {
   "cell_type": "code",
   "execution_count": 6,
   "metadata": {},
   "outputs": [],
   "source": [
    "# 正则对字符串的清洗\n",
    "def textParse(str_doc):\n",
    "    # 正则过滤掉特殊符号，标点，英文，数字等\n",
    "    r1 = '[a-zA-Z0-9’!\"#$%&\\'()*+,-./:：;；|<=>?@，—。?★、…【】《》？“”‘’！[\\\\]^_`{|}~]+'\n",
    "    # 去除空格\n",
    "    r2 = '\\s+' # 空格\n",
    "    # \n",
    "    str_doc = re.sub(r1,' ',str_doc)\n",
    "    str_doc = re.sub(r2,' ',str_doc)\n",
    "    # 去除换行符\n",
    "    str_doc = str_doc.replace('\\n','')\n",
    "    return str_doc\n",
    "    \n",
    "\n",
    "# 读取文本\n",
    "def readFile(path):\n",
    "    str_doc = \"\" # 返回一个字符串\n",
    "    with open(path,'r',encoding='utf-8') as f:\n",
    "        str_doc = f.read() #全部加载\n",
    "    return str_doc\n"
   ]
  },
  {
   "cell_type": "code",
   "execution_count": 8,
   "metadata": {},
   "outputs": [
    {
     "name": "stdout",
     "output_type": "stream",
     "text": [
      "女单抽签：张怡宁独守上半区 王楠郭跃遭遇劲敌\n",
      "　　北京时间8月11日消息，2008年北京奥运会男女单打抽签今天揭晓，头号种子张怡宁将独守上半区，上半区还包括了李佳薇、金景娥等名将，王楠和郭跃同处下半区。\n",
      "　　张怡宁、王楠和郭跃等前16号种子都将直接晋级32强，张怡宁首战的对手是资格赛选手，第二战很可能需要迎接福原爱的挑战，当然，福原爱先得过白俄罗斯削球名将帕夫洛维奇这关。而在1/4决赛，张怡宁的潜在对手将在奥地利老将刘佳或新加坡小将冯天薇，特别是冯天薇，在亚洲杯曾击败过张怡宁，需要警惕。\n",
      "　　上半区另一张四强入场券不出意外将落入李佳薇手中，韩国的金景娥和唐娜，前欧洲第一女单鲍罗斯都很难组织她前进的步伐。\n",
      "　　下半区王楠进军四强的道路并不平坦，1/8决赛的对手很可能是韩国另一位削球手朴美英，如果晋级，强大的帖雅娜将是她挺进半决赛前最大的一个考验。郭跃真正的挑战将从1/8决赛开始，不论是近来状态神勇的荷兰的李佼，还是中国香港的柳絮飞，都是经验十足的高手。过关之后，新加坡的王越古将会是绝对意义上的中国女乒冲冠劲敌。\n",
      "　　奥运会女子单打预赛将于8月18日正式打响，中国三姝前两轮都将轮空，直接从32强战打起。\n",
      "　　(邓菲菲)\n",
      "\n",
      "\n",
      "女单抽签 张怡宁独守上半区 王楠郭跃遭遇劲敌 北京时间 月 日消息 年北京奥运会男女单打抽签今天揭晓 头号种子张怡宁将独守上半区 上半区还包括了李佳薇 金景娥等名将 王楠和郭跃同处下半区 张怡宁 王楠和郭跃等前 号种子都将直接晋级 强 张怡宁首战的对手是资格赛选手 第二战很可能需要迎接福原爱的挑战 当然 福原爱先得过白俄罗斯削球名将帕夫洛维奇这关 而在 决赛 张怡宁的潜在对手将在奥地利老将刘佳或新加坡小将冯天薇 特别是冯天薇 在亚洲杯曾击败过张怡宁 需要警惕 上半区另一张四强入场券不出意外将落入李佳薇手中 韩国的金景娥和唐娜 前欧洲第一女单鲍罗斯都很难组织她前进的步伐 下半区王楠进军四强的道路并不平坦 决赛的对手很可能是韩国另一位削球手朴美英 如果晋级 强大的帖雅娜将是她挺进半决赛前最大的一个考验 郭跃真正的挑战将从 决赛开始 不论是近来状态神勇的荷兰的李佼 还是中国香港的柳絮飞 都是经验十足的高手 过关之后 新加坡的王越古将会是绝对意义上的中国女乒冲冠劲敌 奥运会女子单打预赛将于 月 日正式打响 中国三姝前两轮都将轮空 直接从 强战打起 邓菲菲 \n"
     ]
    }
   ],
   "source": [
    "if __name__ == '__main__':\n",
    "    # 1、读取文本\n",
    "    path = r'../dataSet/CSCMNews/体育/3.txt' # 需要读取的文本文件\n",
    "    str_doc = readFile(path) #  读取文件内容\n",
    "    print(str_doc)\n",
    "    \n",
    "    # 2、数据清洗\n",
    "    res = textParse(str_doc) # 函数实例化-返回字符串\n",
    "    print(res)\n",
    "    "
   ]
  },
  {
   "cell_type": "code",
   "execution_count": null,
   "metadata": {},
   "outputs": [],
   "source": []
  }
 ],
 "metadata": {
  "kernelspec": {
   "display_name": "Python 3",
   "language": "python",
   "name": "python3"
  },
  "language_info": {
   "codemirror_mode": {
    "name": "ipython",
    "version": 3
   },
   "file_extension": ".py",
   "mimetype": "text/x-python",
   "name": "python",
   "nbconvert_exporter": "python",
   "pygments_lexer": "ipython3",
   "version": "3.6.8"
  }
 },
 "nbformat": 4,
 "nbformat_minor": 2
}
