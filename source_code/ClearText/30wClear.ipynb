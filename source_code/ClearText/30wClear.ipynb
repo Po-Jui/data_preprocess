{
 "cells": [
  {
   "cell_type": "code",
   "execution_count": null,
   "metadata": {},
   "outputs": [],
   "source": [
    "\"\"\"\n",
    " author:jjk\n",
    " datetime:2019/11/26\n",
    " coding:utf-8\n",
    " project name:Pycharm_workstation\n",
    " Program function: 新闻文本数据清洗\n",
    " \n",
    "\"\"\"\n",
    "import os,re,time\n",
    "from REdealText import textParse # 调用方法"
   ]
  },
  {
   "cell_type": "code",
   "execution_count": null,
   "metadata": {},
   "outputs": [],
   "source": [
    "# 迭代器类\n",
    "class loadFolder(object): # 加载文件夹\n",
    "    def __init__(self,par_path):# 文件夹的路径\n",
    "        self.par_path = par_path\n",
    "    def __iter__(self): # 迭代器\n",
    "        for file in os.listdir(self.par_path): # os.listdir() 方法用于返回指定的文件夹包含的文件或文件夹的名字的列表\n",
    "            file_abspath = os.path.join(self.par_path,file) # 目录下有哪些文件（可能是一个文件也可能是一个文件名）\n",
    "            if os.path.isdir(file_abspath): # 如果还是一个文件夹\n",
    "                yield file_abspath # 迭代一下（如果遇到一个文件的目录，就会一直的迭代）,类似return\n",
    "                # print('--->',file_abspath)"
   ]
  },
  {
   "cell_type": "code",
   "execution_count": 9,
   "metadata": {},
   "outputs": [],
   "source": [
    "class loadFiles(object):\n",
    "    def __init__(self,par_path):\n",
    "        self.par_path = par_path\n",
    "    def __iter__(self):\n",
    "        folders = loadFolder(self.par_path) # 调用类函数loadFolder(object)看是否是一个文件夹（根目录传进来之后，根目录和次级目录的关系）\n",
    "        for folder in folders: # 一级目录\n",
    "            catg = folder.split(os.sep)[-1]\n",
    "            for file in os.listdir(folder):# 二级目录(子目录)，如果文件名在(os.listdir() 方法用于返回指定的文件夹包含的文件或文件夹的名字的列表)\n",
    "                file_path = os.path.join(folder,file)\n",
    "                # 文件的具体操作\n",
    "                if os.path.isfile(file_path):\n",
    "                    this_file = open(file_path,'rb') # 二进制读取更快\n",
    "                    content = this_file.read().decode('utf8') # 读取文件\n",
    "                    yield catg,content\n",
    "                    this_file.close()"
   ]
  },
  {
   "cell_type": "code",
   "execution_count": 10,
   "metadata": {},
   "outputs": [
    {
     "name": "stdout",
     "output_type": "stream",
     "text": [
      "2019-11-26 13:25:05 *** 0 \t docs has been dealed \n",
      " 体育 :\t 姚明 我来承担一切 四连败巨人宣言酷似当\n",
      "2019-11-26 13:25:09 *** 10000 \t docs has been dealed \n",
      " 娱乐 :\t 肖恩 康纳利息影不退休 图 新浪娱乐讯 \n",
      "2019-11-26 13:25:17 *** 20000 \t docs has been dealed \n",
      " 教育 :\t 新浪五星金牌留学顾问评选复赛流程及评分细\n",
      "2019-11-26 13:25:32 *** 30000 \t docs has been dealed \n",
      " 时政 :\t 美国 艘军舰抵达越南将开展联合军演 中新\n",
      "2019-11-26 13:25:44 *** 40000 \t docs has been dealed \n",
      " 科技 :\t 机身动感配置强悍佳能 单机 元 月 日太\n",
      "2019-11-26 13:25:53 *** 50000 \t docs has been dealed \n",
      " 财经 :\t 金融展上新技术有惊喜 机能认出银行卡主人\n",
      "Total Cost Time:58.87s\n"
     ]
    }
   ],
   "source": [
    "if __name__ == '__main__':\n",
    "    t1 = time.time()\n",
    "    filepath = r'../dataSet/CSCMNews6w'\n",
    "    files = loadFiles(filepath)\n",
    "    n = 2 # 表示抽样\n",
    "    for i,msg in enumerate(files):\n",
    "        if i%n ==0:\n",
    "            catg = msg[0]\n",
    "            content = msg[1]\n",
    "            content = textParse(content)# 数据清洗\n",
    "            if int(i/n) % 5000 ==0:\n",
    "                print('{t} *** {i} \\t docs has been dealed'.format(i=i, t=time.strftime('%Y-%m-%d %H:%M:%S',time.localtime())),'\\n',catg,':\\t',content[:20]) # 每个文本前20\n",
    "    \n",
    "    t2 = time.time()\n",
    "    print('Total Cost Time:%.2f'%(t2-t1) + 's')"
   ]
  },
  {
   "cell_type": "code",
   "execution_count": null,
   "metadata": {},
   "outputs": [],
   "source": []
  },
  {
   "cell_type": "code",
   "execution_count": null,
   "metadata": {},
   "outputs": [],
   "source": []
  }
 ],
 "metadata": {
  "kernelspec": {
   "display_name": "Python 3",
   "language": "python",
   "name": "python3"
  },
  "language_info": {
   "codemirror_mode": {
    "name": "ipython",
    "version": 3
   },
   "file_extension": ".py",
   "mimetype": "text/x-python",
   "name": "python",
   "nbconvert_exporter": "python",
   "pygments_lexer": "ipython3",
   "version": "3.6.8"
  }
 },
 "nbformat": 4,
 "nbformat_minor": 2
}
